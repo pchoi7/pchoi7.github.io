{
 "cells": [
  {
   "cell_type": "raw",
   "metadata": {},
   "source": [
    "---\n",
    "title: Timnit Gebru\n",
    "author: Paul Choi\n",
    "date: '2023-04-20'\n",
    "image: \"TG.jpeg\"\n",
    "description: \"Blog Post about Dr. Gebru's Talk\"\n",
    "format: html\n",
    "---"
   ]
  },
  {
   "cell_type": "markdown",
   "metadata": {},
   "source": [
    "### About Dr. Timnit Gebru\n",
    "\n",
    "Dr. Timnit Gebru is a computer scientist who specializes machine learning and artificial intelligence. She cofounded a research organization alongside Rediet Abebe known as Black in AI, which seeks to speak out about the lack of diversity in the field of artificial intelligence. Many of her works address racial discrimination and gender bias. Dr. Gebru coauthored a paper wher research showed that facial recognition was less accurate in identifying people of color and women. This would mean that there would be discrimination against these groups. This led to another research by other computer scientists and found that in facial recognition, black women were 35% less likely to be recognized than white men, further proving Dr. Gebru's argument. Dr. Gebru is a recognized voice in artificial intelligence because she continues to uncover the ethical issues of the field even if it negatively impacts her. For example, she and five others did an research and put their findings on a paper called \"On the Dangers of Stochastic Parrots: Can Language Models Be Too Big?\" during her time at Google. Despite the opposition from the higer-ups, Gebru insisted that the paper be published, which led to her departure from the company. Regardless of these things, she continues to move forward with the effort the address social injustices in the field of AI through research and starting organizations like Black in AI and the Distributed Artificial Intelligence Research Institute."
   ]
  },
  {
   "cell_type": "markdown",
   "metadata": {},
   "source": [
    "### Tutorial on Fairness, Accountability, Transparency, and Ethics (FATE) in Computer Vision \n",
    "\n",
    "In Dr. Gebru's talk, she speaks about how the field of computer vision is negatively affecting certain groups of people. She stated that computer vision is being utilized for things like the hiring process, surveillance, and policing. Although computer vision has its pros, there are also cons. For example, Dr. Gebru points out the use of face recognition in Maryland, where they used it to identify the Annapolis Capital Gazette shooter, and while this was a benefit, the police started to use it on photos to identify individuals at the Freddit Gray protests. In addition to surveillance, there are racial issues of computer vision. She noted that there were high disparity between black women and white men. Facial recognition was accurate when identifying white men but were much less accurate when identifying black women. Some companies believed that they did not have enough data to correctly identify certain groups of people such as people of the transgender community. As a result, they used videos of Transgender Youtubers without permission to enhance their data for facial/gender recognition.\n",
    "\n",
    "Computer vision algorithms can be useful, but it can cause a lot more harm than one might think."
   ]
  },
  {
   "cell_type": "markdown",
   "metadata": {},
   "source": [
    "#### Question for Dr. Gebru\n",
    "What can companies do to prevent algorithmic biases in computer vision?"
   ]
  },
  {
   "cell_type": "markdown",
   "metadata": {},
   "source": [
    "### Summary of Dr. Gebru's Talk\n",
    "\n",
    "The main focus on Dr. Gebru's talk on Monday was about AGI (artificial general intelligence). In her talk, she briefly goes over the first wave of eugenics,  movement that sought to improve the human population through sterilization, selective breeding, etc. and also the second wave of eugenics. Dr. Gebru argues that the current growth of AGI is correlated to the second wave of eugenics. She mentions that both the first and the second wave of eugenics (mostly the latter) are issues that are starting to surface as the field of AGI grows because these AGI models select the traits of humans that it deems helpful to the human population. \n",
    "\n",
    "Dr. Gebru also explains that AGI is being used to create a utopian society. She describes that basic human needs will be met and the problems of the world such as poverty will be solved through the development in AGI. However, she argues that this utopian society that is promised through AGI will only benefit the rich. Another reason she links the development in AGI to second wave eugenics is due to its transhumanism ideology. Dr. Gebru notes that the field of AGI is being geared towards developing a society where humans and technology are integrated. Transhumanists believe that the integration of human and technology will improve society as a whole. Dr. Gebru raises concerns for this ideology and that only the privileged will be able to improve their living standards while others are left behind. \n",
    "\n",
    "I agree with the arguments of Dr. Gebru. Although I am fairly new to the ideas that Dr. Gebru has brought up in the talk, I believe I can agree with the fact that TESCREAL is ethically wrong even if they believe they are doing good for the future of the human population. AI may not seem like it is related to the second wave eugenics, but I can agree with Dr. Gebru with the fact that in the near future, their relation will become clearer."
   ]
  },
  {
   "cell_type": "markdown",
   "metadata": {},
   "source": [
    "### My Thoughts\n",
    "\n",
    "Attending the talk by Dr. Gebru was a great experience and the topic was very interesting. Before attending the talk, I had never heard any of the TESCREAL terms, but after attending, it helped me aware of what is going on in the field of artificial intelligence and that it is being pushed in this direction. I became interested and researched on my own time about how the second wave of eugenics is related to AGI. Something that I was sort of aware was transhumanism; the integration of man and machine is something that I have always disagreed with and after the talk I became certain of my opinion. "
   ]
  }
 ],
 "metadata": {
  "kernelspec": {
   "display_name": "Python 3 (ipykernel)",
   "language": "python",
   "name": "python3"
  },
  "language_info": {
   "codemirror_mode": {
    "name": "ipython",
    "version": 3
   },
   "file_extension": ".py",
   "mimetype": "text/x-python",
   "name": "python",
   "nbconvert_exporter": "python",
   "pygments_lexer": "ipython3",
   "version": "3.9.16"
  },
  "vscode": {
   "interpreter": {
    "hash": "debe06cc0f9553f110b64dc3926c05df82dae2145b852c8422b9c04315589dcb"
   }
  }
 },
 "nbformat": 4,
 "nbformat_minor": 4
}
