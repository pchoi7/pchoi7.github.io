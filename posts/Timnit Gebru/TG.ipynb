{
 "cells": [
  {
   "cell_type": "markdown",
   "id": "71eed9a4-9181-4487-878a-28dabfc3c38e",
   "metadata": {},
   "source": [
    "#### About Dr. Timnit Gebru\n",
    "Dr. Timnit Gebru is a computer scientist who specializes machine learning and artificial intelligence. She cofounded a research organization alongside Rediet Abebe known as Black in AI, which seeks to speak out about the lack of diversity in the field of artificial intelligence. Many of her works address racial discrimination and gender bias. Dr. Gebru coauthored a paper wher research showed that facial recognition was less accurate in identifying people of color and women. This would mean that there would be discrimination against these groups. This led to another research by other computer scientists and found that in facial recognition, black women were 35% less likely to be recognized than white men, further proving Dr. Gebru's argument. Dr. Gebru is a recognized voice in artificial intelligence because she continues to uncover the ethical issues of the field even if it negatively impacts her. For example, she and five others did an research and put their findings on a paper called \"On the Dangers of Stochastic Parrots: Can Language Models Be Too Big?\" during her time at Google. Despite the opposition from the higer-ups, Gebru insisted that the paper be published, which led to her departure from the company. Regardless of these things, she continues to move forward with the effort the address social injustices in the field of AI through research and starting organizations like Black in AI and the Distributed Artificial Intelligence Research Institute."
   ]
  },
  {
   "cell_type": "markdown",
   "id": "1a860ae4-f21a-48c4-a5a7-333a83bbd17a",
   "metadata": {},
   "source": [
    "#### Tutorial on Fairness, Accountability, Transparency, and Ethics (FATE) in Computer Vision \n",
    "In Dr. Gebru's talk, she speaks about how the field of computer vision is negatively affecting certain groups of people. She stated that computer vision is being utilized for things like the hiring process, surveillance, and policing. Although computer vision has its pros, there are also cons. For example, Dr. Gebru points out the use of face recognition in Maryland, where they used it to identify the Annapolis Capital Gazette shooter, and while this was a benefit, the police started to use it on photos to identify individuals at the Freddit Gray protests. In addition to surveillance, there are racial issues of computer vision. She noted that there were high disparity between black women and white men. Facial recognition was accurate when identifying white men but were much less accurate when identifying black women. Some companies believed that they did not have enough data to correctly identify certain groups of people such as people of the transgender community. As a result, they used videos of Transgender Youtubers without permission to enhance their data for facial/gender recognition.\n",
    "\n",
    "Computer vision algorithms can be useful, but it can cause a lot more harm than one might think."
   ]
  },
  {
   "cell_type": "markdown",
   "id": "d77f57a4-937d-48c9-b720-27680ff4611d",
   "metadata": {},
   "source": [
    "#### Question for Dr. Gebru\n",
    "What can companies do to prevent algorithmic biases in computer vision?"
   ]
  }
 ],
 "metadata": {
  "kernelspec": {
   "display_name": "Python 3 (ipykernel)",
   "language": "python",
   "name": "python3"
  },
  "language_info": {
   "codemirror_mode": {
    "name": "ipython",
    "version": 3
   },
   "file_extension": ".py",
   "mimetype": "text/x-python",
   "name": "python",
   "nbconvert_exporter": "python",
   "pygments_lexer": "ipython3",
   "version": "3.11.0"
  }
 },
 "nbformat": 4,
 "nbformat_minor": 5
}
